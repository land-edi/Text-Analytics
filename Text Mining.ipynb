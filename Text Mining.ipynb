{
 "cells": [
  {
   "cell_type": "markdown",
   "metadata": {},
   "source": [
    "# Data Mining\n",
    "\n",
    "In this notebook, I will be working with messy medical data and using regex to extract relevant infromation from the data. \n",
    "\n",
    "Each line of the `dates.txt` file corresponds to a medical note. Each note has a date that needs to be extracted, but each date is encoded in one of many formats.\n",
    "\n",
    "The goal here is to correctly identify all of the different date variants encoded in this dataset and to properly normalize and sort the dates for easy search. \n",
    "\n",
    "Here is a list of some of the variants in this dataset:\n",
    "* 04/20/2009; 04/20/09; 4/20/09; 4/3/09\n",
    "* Mar-20-2009; Mar 20, 2009; March 20, 2009;  Mar. 20, 2009; Mar 20 2009;\n",
    "* 20 Mar 2009; 20 March 2009; 20 Mar. 2009; 20 March, 2009\n",
    "* Mar 20th, 2009; Mar 21st, 2009; Mar 22nd, 2009\n",
    "* Feb 2009; Sep 2009; Oct 2010\n",
    "* 6/2008; 12/2009\n",
    "* 2009; 2010\n",
    "\n",
    "Once I have extracted these date patterns from the text, I will sort them in ascending chronological order according to the following rules:\n",
    "* Assuming all dates in xx/xx/xx format are mm/dd/yy\n",
    "* Assuming all dates where year is encoded in only two digits are years from the 1900's (e.g. 1/5/89 is January 5th, 1989)\n",
    "* If the day is missing (e.g. 9/2009), assuming it is the first day of the month (e.g. September 1, 2009).\n",
    "* If the month is missing (e.g. 2010), assume it is the first of January of that year (e.g. January 1, 2010).\n",
    "\n",
    "With these rules in mind, I will find the correct date in each note and return a pandas series with the date as index in chronological order of the date."
   ]
  },
  {
   "cell_type": "code",
   "execution_count": 17,
   "metadata": {},
   "outputs": [
    {
     "data": {
      "text/plain": [
       "0         03/25/93 Total time of visit (in minutes):\\n\n",
       "1                       6/18/85 Primary Care Doctor:\\n\n",
       "2    sshe plans to move as of 7/8/71 In-Home Servic...\n",
       "3                7 on 9/27/75 Audit C Score Current:\\n\n",
       "4    2/6/96 sleep studyPain Treatment Pain Level (N...\n",
       "5                    .Per 7/06/79 Movement D/O note:\\n\n",
       "6    4, 5/18/78 Patient's thoughts about current su...\n",
       "7    10/24/89 CPT Code: 90801 - Psychiatric Diagnos...\n",
       "8                         3/7/86 SOS-10 Total Score:\\n\n",
       "9             (4/10/71)Score-1Audit C Score Current:\\n\n",
       "dtype: object"
      ]
     },
     "execution_count": 17,
     "metadata": {},
     "output_type": "execute_result"
    }
   ],
   "source": [
    "import pandas as pd\n",
    "import os\n",
    "\n",
    "date_file = os.path.join(\"Resources\", \"dates.txt\")\n",
    "doc = []\n",
    "with open(date_file) as file:\n",
    "    for line in file:\n",
    "        doc.append(line)\n",
    "\n",
    "note_ds = pd.Series(doc)\n",
    "note_ds.head(10)"
   ]
  },
  {
   "cell_type": "code",
   "execution_count": 18,
   "metadata": {},
   "outputs": [
    {
     "data": {
      "text/html": [
       "<div>\n",
       "<style scoped>\n",
       "    .dataframe tbody tr th:only-of-type {\n",
       "        vertical-align: middle;\n",
       "    }\n",
       "\n",
       "    .dataframe tbody tr th {\n",
       "        vertical-align: top;\n",
       "    }\n",
       "\n",
       "    .dataframe thead th {\n",
       "        text-align: right;\n",
       "    }\n",
       "</style>\n",
       "<table border=\"1\" class=\"dataframe\">\n",
       "  <thead>\n",
       "    <tr style=\"text-align: right;\">\n",
       "      <th></th>\n",
       "      <th>date</th>\n",
       "      <th>Medical Note</th>\n",
       "    </tr>\n",
       "  </thead>\n",
       "  <tbody>\n",
       "    <tr>\n",
       "      <th>0</th>\n",
       "      <td>1971-04-10</td>\n",
       "      <td>(4/10/71)Score-1Audit C Score Current:\\n</td>\n",
       "    </tr>\n",
       "    <tr>\n",
       "      <th>1</th>\n",
       "      <td>1971-05-18</td>\n",
       "      <td>5/18/71 Total time of visit (in minutes):\\n</td>\n",
       "    </tr>\n",
       "    <tr>\n",
       "      <th>2</th>\n",
       "      <td>1971-07-08</td>\n",
       "      <td>sshe plans to move as of 7/8/71 In-Home Servic...</td>\n",
       "    </tr>\n",
       "    <tr>\n",
       "      <th>3</th>\n",
       "      <td>1971-07-11</td>\n",
       "      <td>7/11/71 SOS-10 Total Score:\\n</td>\n",
       "    </tr>\n",
       "    <tr>\n",
       "      <th>4</th>\n",
       "      <td>1971-09-12</td>\n",
       "      <td>9/12/71 [report_end]\\n</td>\n",
       "    </tr>\n",
       "  </tbody>\n",
       "</table>\n",
       "</div>"
      ],
      "text/plain": [
       "        date                                       Medical Note\n",
       "0 1971-04-10           (4/10/71)Score-1Audit C Score Current:\\n\n",
       "1 1971-05-18        5/18/71 Total time of visit (in minutes):\\n\n",
       "2 1971-07-08  sshe plans to move as of 7/8/71 In-Home Servic...\n",
       "3 1971-07-11                      7/11/71 SOS-10 Total Score:\\n\n",
       "4 1971-09-12                             9/12/71 [report_end]\\n"
      ]
     },
     "execution_count": 18,
     "metadata": {},
     "output_type": "execute_result"
    }
   ],
   "source": [
    "#This function will extract the dates and sort them\n",
    "def date_sorter():\n",
    "    import re\n",
    "    import numpy as np\n",
    "\n",
    "    #Create output directory\n",
    "    if not os.path.exists(\"Output\"):\n",
    "        os.mkdir(\"Output\")\n",
    "    outfile = os.path.join(\"Output\",\"Dated Notes.csv\")\n",
    "    \n",
    "    month = {'Jan':'01/',\n",
    "            'Feb': '02/',\n",
    "            'Mar': '03/',\n",
    "            'Apr': '04/',\n",
    "            'May': '05/',\n",
    "            'Jun': '06/',\n",
    "            'Jul': '07/',\n",
    "            'Aug': '08/',\n",
    "            'Sep': '09/',\n",
    "            'Oct': '10/',\n",
    "            'Nov': '11/',\n",
    "            'Dec': '12/'}\n",
    "    text = pd.DataFrame(note_ds, columns=['Medical Note'])\n",
    "    text['date'] = text['Medical Note'].str.findall(r'(?:\\d{1,2}[/-])?(?:\\d{1,2}[/])\\d{2,4}')\n",
    "    text['date'] = text.apply(lambda x: np.nan if len(x['date'])==0 else x['date'][0], axis=1)\n",
    "    text['modate'] = text['Medical Note'].str.findall(r'(?:\\d{1,2}[/-])(?:\\d{1,2}[-])\\d{2,4}')\n",
    "    text['modate'] = text.apply(lambda x: np.nan if len(x['modate'])==0 else x['modate'][0], axis=1)\n",
    "    text['strdate'] = text['Medical Note'].str.findall(r'(?:\\d{2} )?(?:Jan|Feb|Mar|Apr|May|Jun|Jul|Aug|Sep|Oct|Nov|Dec)[a-z.,-]* (?:(?:\\d{1,2})[a-z,-]* )?\\d{2,4}')\n",
    "    text['strdate'] = text.apply(lambda x: np.nan if len(x['strdate'])==0 else x['strdate'][0], axis=1)\n",
    "    text['year'] = text['Medical Note'].str.findall(r'(?:\\d{4})')\n",
    "    text['year'] = text.apply(lambda x: np.nan if len(x['year'])==0 else x['year'][0], axis=1)\n",
    "    text['date'].fillna(text['modate'], inplace=True)\n",
    "    text['date'].fillna(text['strdate'], inplace=True)\n",
    "    text['date'].fillna(text['year'], inplace=True)\n",
    "    text['date'] = text['date'].str.replace(r'(\\W\\d{2}$)', lambda x: x.groups()[0][0]+'19'+ x.groups()[0][1:3])\n",
    "    text['date'] = text['date'].str.replace(r'(^\\d{4}$)', lambda x: '01/01/'+ x.groups()[0][:4])\n",
    "    text['date'] = text['date'].str.replace(r'^(Jan|Feb|Mar|Apr|May|Jun|Jul|Aug|Sep|Oct|Nov|Dec)[a-z., ]*', lambda x: month[x.groups()[0][:3]])\n",
    "    text['date'] = text['date'].str.replace(r', ', '/')\n",
    "    text['date'] = text['date'].str.replace(r'//', '/')\n",
    "    text['date'] = text['date'].str.replace(r'(\\W\\d{2}) ', lambda x: x.groups()[0][:3]+'/')\n",
    "    text['date'] = pd.to_datetime(text['date'])\n",
    "    dates_df = text[['date','Medical Note']]\n",
    "    dates_df = dates_df.sort_values('date', ascending = True)\n",
    "    dates_df = dates_df.reset_index(drop = True)\n",
    "    output = dates_df[[\"date\",'Medical Note']]\n",
    "    output.to_csv(outfile)\n",
    "    return output\n",
    "\n",
    "date_sorter().head()"
   ]
  },
  {
   "cell_type": "code",
   "execution_count": null,
   "metadata": {},
   "outputs": [],
   "source": []
  }
 ],
 "metadata": {
  "coursera": {
   "course_slug": "python-text-mining",
   "graded_item_id": "LvcWI",
   "launcher_item_id": "krne9",
   "part_id": "Mkp1I"
  },
  "kernelspec": {
   "display_name": "Python 3",
   "language": "python",
   "name": "python3"
  },
  "language_info": {
   "codemirror_mode": {
    "name": "ipython",
    "version": 3
   },
   "file_extension": ".py",
   "mimetype": "text/x-python",
   "name": "python",
   "nbconvert_exporter": "python",
   "pygments_lexer": "ipython3",
   "version": "3.7.0"
  }
 },
 "nbformat": 4,
 "nbformat_minor": 2
}
