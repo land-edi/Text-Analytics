{
 "cells": [
  {
   "cell_type": "markdown",
   "metadata": {},
   "source": [
    "# Spam Detection\n",
    "\n",
    "In this Notebook I will explore text message data downloaded from Kaggle and create models to predict if a message is spam or not. "
   ]
  },
  {
   "cell_type": "code",
   "execution_count": 2,
   "metadata": {},
   "outputs": [
    {
     "data": {
      "text/html": [
       "<div>\n",
       "<style scoped>\n",
       "    .dataframe tbody tr th:only-of-type {\n",
       "        vertical-align: middle;\n",
       "    }\n",
       "\n",
       "    .dataframe tbody tr th {\n",
       "        vertical-align: top;\n",
       "    }\n",
       "\n",
       "    .dataframe thead th {\n",
       "        text-align: right;\n",
       "    }\n",
       "</style>\n",
       "<table border=\"1\" class=\"dataframe\">\n",
       "  <thead>\n",
       "    <tr style=\"text-align: right;\">\n",
       "      <th></th>\n",
       "      <th>type</th>\n",
       "      <th>text</th>\n",
       "      <th>target</th>\n",
       "    </tr>\n",
       "  </thead>\n",
       "  <tbody>\n",
       "    <tr>\n",
       "      <th>0</th>\n",
       "      <td>ham</td>\n",
       "      <td>Go until jurong point, crazy.. Available only ...</td>\n",
       "      <td>0</td>\n",
       "    </tr>\n",
       "    <tr>\n",
       "      <th>1</th>\n",
       "      <td>ham</td>\n",
       "      <td>Ok lar... Joking wif u oni...</td>\n",
       "      <td>0</td>\n",
       "    </tr>\n",
       "    <tr>\n",
       "      <th>2</th>\n",
       "      <td>spam</td>\n",
       "      <td>Free entry in 2 a wkly comp to win FA Cup fina...</td>\n",
       "      <td>1</td>\n",
       "    </tr>\n",
       "    <tr>\n",
       "      <th>3</th>\n",
       "      <td>ham</td>\n",
       "      <td>U dun say so early hor... U c already then say...</td>\n",
       "      <td>0</td>\n",
       "    </tr>\n",
       "    <tr>\n",
       "      <th>4</th>\n",
       "      <td>ham</td>\n",
       "      <td>Nah I don't think he goes to usf, he lives aro...</td>\n",
       "      <td>0</td>\n",
       "    </tr>\n",
       "    <tr>\n",
       "      <th>5</th>\n",
       "      <td>spam</td>\n",
       "      <td>FreeMsg Hey there darling it's been 3 week's n...</td>\n",
       "      <td>1</td>\n",
       "    </tr>\n",
       "    <tr>\n",
       "      <th>6</th>\n",
       "      <td>ham</td>\n",
       "      <td>Even my brother is not like to speak with me. ...</td>\n",
       "      <td>0</td>\n",
       "    </tr>\n",
       "    <tr>\n",
       "      <th>7</th>\n",
       "      <td>ham</td>\n",
       "      <td>As per your request 'Melle Melle (Oru Minnamin...</td>\n",
       "      <td>0</td>\n",
       "    </tr>\n",
       "    <tr>\n",
       "      <th>8</th>\n",
       "      <td>spam</td>\n",
       "      <td>WINNER!! As a valued network customer you have...</td>\n",
       "      <td>1</td>\n",
       "    </tr>\n",
       "    <tr>\n",
       "      <th>9</th>\n",
       "      <td>spam</td>\n",
       "      <td>Had your mobile 11 months or more? U R entitle...</td>\n",
       "      <td>1</td>\n",
       "    </tr>\n",
       "  </tbody>\n",
       "</table>\n",
       "</div>"
      ],
      "text/plain": [
       "   type                                               text  target\n",
       "0   ham  Go until jurong point, crazy.. Available only ...       0\n",
       "1   ham                      Ok lar... Joking wif u oni...       0\n",
       "2  spam  Free entry in 2 a wkly comp to win FA Cup fina...       1\n",
       "3   ham  U dun say so early hor... U c already then say...       0\n",
       "4   ham  Nah I don't think he goes to usf, he lives aro...       0\n",
       "5  spam  FreeMsg Hey there darling it's been 3 week's n...       1\n",
       "6   ham  Even my brother is not like to speak with me. ...       0\n",
       "7   ham  As per your request 'Melle Melle (Oru Minnamin...       0\n",
       "8  spam  WINNER!! As a valued network customer you have...       1\n",
       "9  spam  Had your mobile 11 months or more? U R entitle...       1"
      ]
     },
     "execution_count": 2,
     "metadata": {},
     "output_type": "execute_result"
    }
   ],
   "source": [
    "import pandas as pd\n",
    "import numpy as np\n",
    "import os\n",
    "\n",
    "spam_file = os.path.join(\"Resources\", \"sms_spam.csv\")\n",
    "spam_data = pd.read_csv(spam_file)\n",
    "\n",
    "# Recoding the type to 1-Spam and 0-Ham\n",
    "spam_data['target'] = np.where(spam_data['type']=='spam',1,0)\n",
    "spam_data.head(10)"
   ]
  },
  {
   "cell_type": "code",
   "execution_count": 3,
   "metadata": {},
   "outputs": [],
   "source": [
    "from sklearn.model_selection import train_test_split\n",
    "\n",
    "# Split the data into Train and test sets\n",
    "X_train, X_test, y_train, y_test = train_test_split(spam_data['text'], \n",
    "                                                    spam_data['target'], \n",
    "                                                    random_state=0)"
   ]
  },
  {
   "cell_type": "markdown",
   "metadata": {},
   "source": [
    "### Spam Ratio\n",
    "\n",
    "*This function returns a float, the percent value (i.e. $ratio * 100$)."
   ]
  },
  {
   "cell_type": "code",
   "execution_count": 4,
   "metadata": {},
   "outputs": [
    {
     "data": {
      "text/plain": [
       "13.40150699677072"
      ]
     },
     "execution_count": 4,
     "metadata": {},
     "output_type": "execute_result"
    }
   ],
   "source": [
    "def spam_percent(): \n",
    "    result = 100*len(spam_data[spam_data['target']==1])/(1.0*len(spam_data))\n",
    "    return result\n",
    "\n",
    "spam_percent()"
   ]
  },
  {
   "cell_type": "markdown",
   "metadata": {},
   "source": [
    "#### Longest Token\n",
    "\n",
    "We fit the training data `X_train` using a Count Vectorizer with default parameters.\n",
    "\n",
    "then we identify the longest token in the vocabulary.\n",
    "\n",
    "*This function returns the longest token.*"
   ]
  },
  {
   "cell_type": "code",
   "execution_count": 5,
   "metadata": {},
   "outputs": [
    {
     "data": {
      "text/plain": [
       "'hypotheticalhuagauahahuagahyuhagga'"
      ]
     },
     "execution_count": 5,
     "metadata": {},
     "output_type": "execute_result"
    }
   ],
   "source": [
    "from sklearn.feature_extraction.text import CountVectorizer\n",
    "\n",
    "vect = CountVectorizer().fit(X_train)\n",
    "def long_token():\n",
    "    return max(vect.get_feature_names(), key=lambda token:len(token))\n",
    "\n",
    "long_token()"
   ]
  },
  {
   "cell_type": "markdown",
   "metadata": {},
   "source": [
    "### Naive Bayes classifier\n",
    "\n",
    "We use the Count Vectorizer with default parameters created earlier.\n",
    "\n",
    "then , we fit a multinomial Naive Bayes classifier model with smoothing `alpha=0.1`. And find the area under the curve (AUC) score using the transformed test data.\n",
    "\n",
    "*The function below returns the AUC score as a float.*"
   ]
  },
  {
   "cell_type": "code",
   "execution_count": 6,
   "metadata": {},
   "outputs": [
    {
     "data": {
      "text/plain": [
       "0.9634978365302715"
      ]
     },
     "execution_count": 6,
     "metadata": {},
     "output_type": "execute_result"
    }
   ],
   "source": [
    "from sklearn.naive_bayes import MultinomialNB\n",
    "from sklearn.metrics import roc_auc_score\n",
    "\n",
    "def nbc_auc():\n",
    "    X_train_vectorized = vect.transform(X_train)\n",
    "    clfrNB = MultinomialNB(alpha=0.1).fit(X_train_vectorized, y_train)\n",
    "    predictions = clfrNB.predict(vect.transform(X_test))\n",
    "    \n",
    "    return roc_auc_score(y_test, predictions)\n",
    "\n",
    "nbc_auc()"
   ]
  },
  {
   "cell_type": "markdown",
   "metadata": {},
   "source": [
    "### using a Tfidf Vectorizer\n",
    "\n",
    "We fit and transform the training data `X_train` using a Tfidf Vectorizer with default parameters.\n",
    "\n",
    "Then we identify the 20 features with the smallest tf-idf and the 20 with the largest tf-idf?\n",
    "\n",
    "we put these features in a two series where each series is sorted by tf-idf value and then alphabetically by feature name. The index of the series is the feature name, and the data is the tf-idf.\n",
    "\n",
    "The series of 20 features with smallest tf-idfs are sorted smallest tfidf first, the list of 20 features with largest tf-idfs are sorted largest first. \n",
    "\n",
    "*This function returns a tuple of two series\n",
    "`(smallest tf-idfs series, largest tf-idfs series)`.*"
   ]
  },
  {
   "cell_type": "code",
   "execution_count": 7,
   "metadata": {},
   "outputs": [
    {
     "data": {
      "text/plain": [
       "(exterminator    0.074408\n",
       " organizer       0.074408\n",
       " pudunga         0.074408\n",
       " psychologist    0.074408\n",
       " psychiatrist    0.074408\n",
       " venaam          0.074408\n",
       " athletic        0.074408\n",
       " pest            0.074408\n",
       " chef            0.074408\n",
       " aaniye          0.074408\n",
       " companion       0.074408\n",
       " healer          0.074408\n",
       " stylist         0.074408\n",
       " dependable      0.074408\n",
       " sympathetic     0.074408\n",
       " determined      0.074408\n",
       " listener        0.074408\n",
       " courageous      0.074408\n",
       " driver          0.074408\n",
       " independence    0.091685\n",
       " dtype: float64, done         1.000000\n",
       " where        1.000000\n",
       " 146tf150p    1.000000\n",
       " nite         1.000000\n",
       " 645          1.000000\n",
       " ok           1.000000\n",
       " home         1.000000\n",
       " too          1.000000\n",
       " yup          1.000000\n",
       " alrite       1.000000\n",
       " okie         1.000000\n",
       " beerage      1.000000\n",
       " anytime      1.000000\n",
       " havent       1.000000\n",
       " thanx        1.000000\n",
       " lei          1.000000\n",
       " thank        1.000000\n",
       " tick         0.979385\n",
       " same         0.934766\n",
       " blank        0.931963\n",
       " dtype: float64)"
      ]
     },
     "execution_count": 7,
     "metadata": {},
     "output_type": "execute_result"
    }
   ],
   "source": [
    "from sklearn.feature_extraction.text import TfidfVectorizer\n",
    "\n",
    "def tf_idfs_smalllarge():\n",
    "    vect = TfidfVectorizer().fit(X_train)\n",
    "    X_train_vectorized = vect.transform(X_train)\n",
    "    feature_names = np.array(vect.get_feature_names())\n",
    "    sorted_tfidf_index = X_train_vectorized.max(0).toarray()[0].argsort()\n",
    "    smallest = pd.Series(X_train_vectorized.max(0).toarray()[0][sorted_tfidf_index[:20]], index = feature_names[sorted_tfidf_index[:20]])\n",
    "    largest = pd.Series(X_train_vectorized.max(0).toarray()[0][sorted_tfidf_index[:-21:-1]], index = feature_names[sorted_tfidf_index[:-21:-1]])\n",
    "    \n",
    "    return (smallest, largest)\n",
    "\n",
    "tf_idfs_smalllarge()"
   ]
  },
  {
   "cell_type": "markdown",
   "metadata": {},
   "source": [
    "### Ignoring unfrequent terms\n",
    "\n",
    "We fit and transform the training data `X_train` using a Tfidf Vectorizer ignoring terms that have a document frequency strictly lower than **3**.\n",
    "\n",
    "Then fit a multinomial Naive Bayes classifier model with smoothing `alpha=0.1` and compute the area under the curve (AUC) score using the transformed test data.\n",
    "\n",
    "*This function returns the AUC score as a float.*"
   ]
  },
  {
   "cell_type": "code",
   "execution_count": 8,
   "metadata": {},
   "outputs": [
    {
     "data": {
      "text/plain": [
       "0.9506958877039964"
      ]
     },
     "execution_count": 8,
     "metadata": {},
     "output_type": "execute_result"
    }
   ],
   "source": [
    "def freqterm_nbc_auc():\n",
    "    vect = TfidfVectorizer(min_df=3).fit(X_train)\n",
    "    X_train_vectorized = vect.transform(X_train)\n",
    "    clfrNB = MultinomialNB(alpha=0.1).fit(X_train_vectorized, y_train)\n",
    "    predictions = clfrNB.predict(vect.transform(X_test))\n",
    "    \n",
    "    return roc_auc_score(y_test, predictions)\n",
    "\n",
    "freqterm_nbc_auc()"
   ]
  },
  {
   "cell_type": "markdown",
   "metadata": {},
   "source": [
    "### Length of documents\n",
    "\n",
    "*The function below returns a tuple (average length not spam, average length spam).*"
   ]
  },
  {
   "cell_type": "code",
   "execution_count": 9,
   "metadata": {},
   "outputs": [
    {
     "data": {
      "text/plain": [
       "(71.43981769214834, 138.63453815261045)"
      ]
     },
     "execution_count": 9,
     "metadata": {},
     "output_type": "execute_result"
    }
   ],
   "source": [
    "def avg_doc_length():\n",
    "    \n",
    "    \n",
    "    nospam = np.mean(spam_data[spam_data['target']==0]['text'].str.len())\n",
    "    spam = np.mean(spam_data[spam_data['target']==1]['text'].str.len())\n",
    "    \n",
    "    return (nospam, spam)\n",
    "\n",
    "avg_doc_length()"
   ]
  },
  {
   "cell_type": "markdown",
   "metadata": {},
   "source": [
    "### Function to add new features\n",
    "The following function combines new features into the training data:"
   ]
  },
  {
   "cell_type": "code",
   "execution_count": 10,
   "metadata": {},
   "outputs": [],
   "source": [
    "def add_feature(X, feature_to_add):\n",
    "#    \"\"\"\n",
    "#    Returns sparse feature matrix with added feature.\n",
    "#    feature_to_add can also be a list of features.\n",
    "#    \"\"\"\n",
    "    from scipy.sparse import csr_matrix, hstack\n",
    "    return hstack([X, csr_matrix(feature_to_add).T], 'csr')"
   ]
  },
  {
   "cell_type": "markdown",
   "metadata": {},
   "source": [
    "### Adding the length of document\n",
    "\n",
    "We fit and transform the training data X_train using a Tfidf Vectorizer ignoring terms that have a document frequency strictly lower than **5**.\n",
    "\n",
    "Using this document-term matrix and an additional feature, **the length of document (number of characters)**, we fit a Support Vector Classification model with regularization `C=10000`. Then compute the area under the curve (AUC) score using the transformed test data.\n",
    "\n",
    "*This function returns the AUC score as a float.*"
   ]
  },
  {
   "cell_type": "code",
   "execution_count": 11,
   "metadata": {},
   "outputs": [
    {
     "data": {
      "text/plain": [
       "0.9490264386221934"
      ]
     },
     "execution_count": 11,
     "metadata": {},
     "output_type": "execute_result"
    }
   ],
   "source": [
    "from sklearn.svm import SVC\n",
    "\n",
    "def docl_svc_auc():\n",
    "    vect = TfidfVectorizer(min_df=5).fit(X_train)\n",
    "    X_train_vectorized = vect.transform(X_train)\n",
    "    X_Train_add = add_feature(X_train_vectorized, X_train.str.len())\n",
    "    X_test_vectorized = vect.transform(X_test)\n",
    "    X_Test_add = add_feature(X_test_vectorized, X_test.str.len())\n",
    "    clfrNB = SVC(C = 10000).fit(X_Train_add, y_train)\n",
    "    predictions = clfrNB.predict(X_Test_add)\n",
    "    \n",
    "    return roc_auc_score(y_test, predictions)\n",
    "\n",
    "docl_svc_auc()"
   ]
  },
  {
   "cell_type": "markdown",
   "metadata": {},
   "source": [
    "### Number of digits\n",
    "\n",
    "What is the average number of digits per document for not spam and spam documents?\n",
    "\n",
    "*This function returns a tuple (average # digits not spam, average # digits spam).*"
   ]
  },
  {
   "cell_type": "code",
   "execution_count": 12,
   "metadata": {},
   "outputs": [
    {
     "data": {
      "text/plain": [
       "(0.30515848353014297, 15.812583668005354)"
      ]
     },
     "execution_count": 12,
     "metadata": {},
     "output_type": "execute_result"
    }
   ],
   "source": [
    "def num_digits():\n",
    "    nospam = np.mean(spam_data[spam_data['target']==0]['text'].str.count(r'\\d'))\n",
    "    spam = np.mean(spam_data[spam_data['target']==1]['text'].str.count(r'\\d'))\n",
    "    return (nospam, spam)\n",
    "\n",
    "num_digits()"
   ]
  },
  {
   "cell_type": "markdown",
   "metadata": {},
   "source": [
    "### Adding number of digits\n",
    "\n",
    "we fit and transform the training data `X_train` using a Tfidf Vectorizer ignoring terms that have a document frequency strictly lower than **5** and using **word n-grams from n=1 to n=3** (unigrams, bigrams, and trigrams).\n",
    "\n",
    "Using this document-term matrix and the following additional features:\n",
    "* the length of document (number of characters)\n",
    "* **number of digits per document**\n",
    "\n",
    "we fit a Logistic Regression model with regularization `C=100`. Then compute the area under the curve (AUC) score using the transformed test data.\n",
    "\n",
    "*This function returns the AUC score as a float.*"
   ]
  },
  {
   "cell_type": "code",
   "execution_count": 13,
   "metadata": {},
   "outputs": [
    {
     "data": {
      "text/plain": [
       "0.9583489489284862"
      ]
     },
     "execution_count": 13,
     "metadata": {},
     "output_type": "execute_result"
    }
   ],
   "source": [
    "from sklearn.linear_model import LogisticRegression\n",
    "\n",
    "def numd_logis_auc():\n",
    "    vect = TfidfVectorizer(min_df=5, ngram_range=(1,3)).fit(X_train)\n",
    "    X_train_vectorized = vect.transform(X_train)\n",
    "    X_Train_add = add_feature(X_train_vectorized, [X_train.str.len(),X_train.str.count(r'\\d')] )\n",
    "    X_test_vectorized = vect.transform(X_test)\n",
    "    X_Test_add = add_feature(X_test_vectorized, [X_test.str.len(), X_test.str.count(r'\\d')])\n",
    "    clfrNB = LogisticRegression(C = 100).fit(X_Train_add, y_train)\n",
    "    predictions = clfrNB.predict(X_Test_add)\n",
    "    \n",
    "    return roc_auc_score(y_test, predictions)\n",
    "\n",
    "numd_logis_auc()"
   ]
  },
  {
   "cell_type": "markdown",
   "metadata": {},
   "source": [
    "### Non Alphanumeric Characters\n",
    "\n",
    "What is the average number of non-word characters (anything other than a letter, digit or underscore) per document for not spam and spam documents?\n",
    "\n",
    "*This function returns a tuple (average # non-word characters not spam, average # non-word characters spam).*"
   ]
  },
  {
   "cell_type": "code",
   "execution_count": 14,
   "metadata": {},
   "outputs": [
    {
     "data": {
      "text/plain": [
       "(17.37725295214419, 29.068273092369477)"
      ]
     },
     "execution_count": 14,
     "metadata": {},
     "output_type": "execute_result"
    }
   ],
   "source": [
    "def non_word():\n",
    "    nospam = np.mean(spam_data[spam_data['target']==0]['text'].str.count(r'\\W'))\n",
    "    spam = np.mean(spam_data[spam_data['target']==1]['text'].str.count(r'\\W'))\n",
    "    return (nospam, spam)\n",
    "\n",
    "non_word()"
   ]
  },
  {
   "cell_type": "markdown",
   "metadata": {},
   "source": [
    "### Adding non Alpha characters\n",
    "\n",
    "We fit and transform the training data X_train using a Count Vectorizer ignoring terms that have a document frequency strictly lower than **5** and using **character n-grams from n=2 to n=5.**\n",
    "\n",
    "To tell Count Vectorizer to use character n-grams we pass in `analyzer='char_wb'` which creates character n-grams only from text inside word boundaries. This makes the model more robust to spelling mistakes.\n",
    "\n",
    "Using this document-term matrix and the following additional features:\n",
    "* the length of document (number of characters)\n",
    "* number of digits per document\n",
    "* **number of non-word characters (anything other than a letter, digit or underscore.)**\n",
    "\n",
    "we fit a Logistic Regression model with regularization C=100. Then compute the area under the curve (AUC) score using the transformed test data.\n",
    "\n",
    "Also **we find the 10 smallest and 10 largest coefficients from the model** and return them along with the AUC score in a tuple.\n",
    "\n",
    "The list of 10 smallest coefficients are sorted smallest first, the list of 10 largest coefficients are sorted largest first.\n",
    "\n",
    "The three features that were added to the document term matrix have the following names should they appear in the list of coefficients:\n",
    "['length_of_doc', 'digit_count', 'non_word_char_count']\n",
    "\n",
    "*This function returns a tuple `(AUC score as a float, smallest coefs list, largest coefs list)`.*"
   ]
  },
  {
   "cell_type": "code",
   "execution_count": 15,
   "metadata": {},
   "outputs": [
    {
     "data": {
      "text/plain": [
       "(0.9681356682906886,\n",
       " ['..', '? ', ' y', ' i', 'i ', 'h ', ' m', '. ', 'oo', ':)'],\n",
       " ['digit_count', 'ww', 'ia', 'xt', 'ne', 'co', ' a ', 'uk', 'mob', ' en'])"
      ]
     },
     "execution_count": 15,
     "metadata": {},
     "output_type": "execute_result"
    }
   ],
   "source": [
    "def nonal_logistic_auc():\n",
    "    vect = CountVectorizer(min_df=5, ngram_range=(2,5), analyzer='char_wb').fit(X_train)\n",
    "    X_train_vectorized = vect.transform(X_train)\n",
    "    X_Train_add = add_feature(X_train_vectorized, [X_train.str.len().rename(\"length_of_doc\"),\n",
    "                                                   X_train.str.count(r'\\d').rename(\"digit_count\"),\n",
    "                                                   X_train.str.count(r'\\W').rename(\"non_word_char_count\")] )\n",
    "    X_test_vectorized = vect.transform(X_test)\n",
    "    X_Test_add = add_feature(X_test_vectorized, [X_test.str.len().rename(\"length_of_doc\"), \n",
    "                                                 X_test.str.count(r'\\d').rename(\"digit_count\"), \n",
    "                                                 X_test.str.count(r'\\W').rename(\"non_word_char_count\")])\n",
    "    clfrNB = LogisticRegression(C = 100).fit(X_Train_add, y_train)\n",
    "    predictions = clfrNB.predict(X_Test_add)\n",
    "    AUC = roc_auc_score(y_test, predictions)\n",
    "    \n",
    "    feature_names = np.array(vect.get_feature_names() + ['length_of_doc', 'digit_count', 'non_word_char_count'])\n",
    "    sorted_tfidf_index = clfrNB.coef_[0].argsort()\n",
    "    smallest = list(feature_names[sorted_tfidf_index[:10]])\n",
    "    largest = list(feature_names[sorted_tfidf_index[:-11:-1]])\n",
    "    \n",
    "    return (AUC,smallest,largest)\n",
    "\n",
    "nonal_logistic_auc()"
   ]
  },
  {
   "cell_type": "code",
   "execution_count": null,
   "metadata": {},
   "outputs": [],
   "source": []
  }
 ],
 "metadata": {
  "coursera": {
   "course_slug": "python-text-mining",
   "graded_item_id": "Pn19K",
   "launcher_item_id": "y1juS",
   "part_id": "ctlgo"
  },
  "kernelspec": {
   "display_name": "Python 3",
   "language": "python",
   "name": "python3"
  },
  "language_info": {
   "codemirror_mode": {
    "name": "ipython",
    "version": 3
   },
   "file_extension": ".py",
   "mimetype": "text/x-python",
   "name": "python",
   "nbconvert_exporter": "python",
   "pygments_lexer": "ipython3",
   "version": "3.7.0"
  }
 },
 "nbformat": 4,
 "nbformat_minor": 2
}
